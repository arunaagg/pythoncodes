{
 "cells": [
  {
   "cell_type": "code",
   "execution_count": 1,
   "metadata": {},
   "outputs": [],
   "source": [
    "import socket"
   ]
  },
  {
   "cell_type": "code",
   "execution_count": 2,
   "metadata": {},
   "outputs": [
    {
     "data": {
      "text/plain": [
       "'LAPTOP-57M79S8F'"
      ]
     },
     "execution_count": 2,
     "metadata": {},
     "output_type": "execute_result"
    }
   ],
   "source": [
    "socket.gethostname()"
   ]
  },
  {
   "cell_type": "code",
   "execution_count": 5,
   "metadata": {},
   "outputs": [
    {
     "data": {
      "text/plain": [
       "'192.168.137.1'"
      ]
     },
     "execution_count": 5,
     "metadata": {},
     "output_type": "execute_result"
    }
   ],
   "source": [
    "socket.gethostbyname(socket.gethostname())"
   ]
  },
  {
   "cell_type": "code",
   "execution_count": 6,
   "metadata": {},
   "outputs": [
    {
     "data": {
      "text/plain": [
       "'31.13.79.35'"
      ]
     },
     "execution_count": 6,
     "metadata": {},
     "output_type": "execute_result"
    }
   ],
   "source": [
    "socket.gethostbyname('facebook.com')"
   ]
  },
  {
   "cell_type": "code",
   "execution_count": null,
   "metadata": {},
   "outputs": [],
   "source": [
    "import socket\n",
    "client=socket.socket()\n",
    "client.connect(('192.168.1.111',12345))\n",
    "\n",
    "for var in range(10):\n",
    "    msg=client.recv(1024).decode()\n",
    "    print(\"\\t\\t\\tserver--> \",msg)\n",
    "    m=input(\"client-->\").encode()\n",
    "    client.send(m)\n",
    "client.close()"
   ]
  },
  {
   "cell_type": "code",
   "execution_count": 2,
   "metadata": {},
   "outputs": [],
   "source": [
    "#sachinyadav3496          github"
   ]
  },
  {
   "cell_type": "code",
   "execution_count": null,
   "metadata": {},
   "outputs": [
    {
     "name": "stdout",
     "output_type": "stream",
     "text": [
      "Connected to localhost:12345\n"
     ]
    }
   ],
   "source": [
    "def send(client):\n",
    "    while True:\n",
    "        msg=input(\"Server-->\" )\n",
    "        client.send(msg.encode())\n",
    "        if msg.lower().strip() == 'bye':\n",
    "            client.close()\n",
    "            print('Connection closed by server')\n",
    "            break\n",
    "def recv(client):\n",
    "    while True:\n",
    "        msg=client.recv(1024).decode()\n",
    "        msg=f\"client--> {msg}\"\n",
    "        print(msg.rjust(50))\n",
    "        if msg.lower().strip()=='bye':\n",
    "            client.close()\n",
    "            print('Connection closed by client')\n",
    "            break\n",
    "import socket\n",
    "import threading\n",
    "server = socket.socket()\n",
    "host='localhost'\n",
    "port=12345\n",
    "server.bind((host,port))\n",
    "server.listen()\n",
    "print(f'Connected to {host}:{port}')\n",
    "client_socket,client_address=server.accept()\n",
    "\n",
    "msg_send=threading.Thread(target=send,args=(server,))\n",
    "msg_recv=threading.Thread(target=recv,args=(server,))\n",
    "\n",
    "msg_send.start()\n",
    "msg_recv.start()\n",
    "\n",
    "msg_send.join()\n",
    "msg_recv.join()"
   ]
  },
  {
   "cell_type": "code",
   "execution_count": null,
   "metadata": {},
   "outputs": [],
   "source": [
    "def send(client):\n",
    "    while True:\n",
    "        msg=input(\"Server-->\" )\n",
    "        client.send(msg.encode())\n",
    "        if msg.lower().strip() == 'bye':\n",
    "            client.close()\n",
    "            print('Connection closed by server')\n",
    "            break\n",
    "def recv(client):\n",
    "    while True:\n",
    "        msg=client.recv(1024).decode()\n",
    "        msg=f\"client--> {msg}\"\n",
    "        print(msg.rjust(50))\n",
    "        if msg.lower().strip()=='bye':\n",
    "            client.close()\n",
    "            print('Connection closed by client')\n",
    "            break\n",
    "import socket\n",
    "import threading\n",
    "server = socket.socket()\n",
    "host='localhost'\n",
    "port=12345\n",
    "server.connect((host,port))\n",
    "\n",
    "print(f'Connected to {host}:{port}')\n",
    "msg_send=threading.Thread(target=send,args=(server,))\n",
    "msg_recv=threading.Thread(target=recv,args=(server,))\n",
    "\n",
    "msg_send.start()\n",
    "msg_recv.start()\n",
    "\n",
    "msg_send.join()\n",
    "msg_recv.join()\n",
    "\n"
   ]
  },
  {
   "cell_type": "code",
   "execution_count": null,
   "metadata": {},
   "outputs": [],
   "source": [
    "class student:\n",
    "    def __init__:\n",
    "        \n",
    "        "
   ]
  }
 ],
 "metadata": {
  "kernelspec": {
   "display_name": "Python 3",
   "language": "python",
   "name": "python3"
  },
  "language_info": {
   "codemirror_mode": {
    "name": "ipython",
    "version": 3
   },
   "file_extension": ".py",
   "mimetype": "text/x-python",
   "name": "python",
   "nbconvert_exporter": "python",
   "pygments_lexer": "ipython3",
   "version": "3.7.1"
  }
 },
 "nbformat": 4,
 "nbformat_minor": 2
}
