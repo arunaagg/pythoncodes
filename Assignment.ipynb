{
 "cells": [
  {
   "cell_type": "code",
   "execution_count": 14,
   "metadata": {
    "scrolled": true
   },
   "outputs": [
    {
     "name": "stdout",
     "output_type": "stream",
     "text": [
      "Enter no:7\n",
      "7 is not divisible\n"
     ]
    }
   ],
   "source": [
    "x=int(input('Enter no:'))\n",
    "if x%5 or x%11:\n",
    "    flag='not'\n",
    "else:\n",
    "    flag=''\n",
    "print(f\"{x} is {flag} divisible\")    "
   ]
  },
  {
   "cell_type": "code",
   "execution_count": 9,
   "metadata": {},
   "outputs": [
    {
     "name": "stdout",
     "output_type": "stream",
     "text": [
      "Enter no:-3\n",
      "Negative\n"
     ]
    }
   ],
   "source": [
    "x=int(input('Enter no:'))\n",
    "if x<0:\n",
    "    print('Negative')\n",
    "elif x==0:\n",
    "    print('Zero')\n",
    "else:\n",
    "    print('Positive')"
   ]
  },
  {
   "cell_type": "code",
   "execution_count": 17,
   "metadata": {},
   "outputs": [
    {
     "name": "stdout",
     "output_type": "stream",
     "text": [
      "Enter no:12\n",
      "Enter no:13\n",
      "Enter no:14\n",
      "z is greatest\n"
     ]
    }
   ],
   "source": [
    "x=int(input('Enter no:'))\n",
    "y=int(input('Enter no:'))\n",
    "z=int(input('Enter no:'))\n",
    "if x>y and x>z:\n",
    "    print(f\"x is greatest\")\n",
    "elif y>x and y>z:\n",
    "    print(f\"y is greatest\")\n",
    "elif z>x and z>y:\n",
    "    print(f\"z is greatest\")\n",
    "else:\n",
    "    print('All are equal')"
   ]
  },
  {
   "cell_type": "code",
   "execution_count": 22,
   "metadata": {},
   "outputs": [
    {
     "name": "stdout",
     "output_type": "stream",
     "text": [
      "Enter price of the item:1001\n",
      "Enter given amount:1000\n",
      "change:-1\n",
      "Give the remaining money\n"
     ]
    }
   ],
   "source": [
    "i=int(input('Enter price of the item:'))\n",
    "x=int(input('Enter given amount:'))  \n",
    "t=x-i\n",
    "print(f\"change:{t}\")\n",
    "if t>0:\n",
    "    a=t//2000\n",
    "    a1=t%2000\n",
    "    b=a1//500\n",
    "    b1=a1%500\n",
    "    c=b1//200\n",
    "    c1=b1%200\n",
    "    d=c1//100\n",
    "    d1=c1%100\n",
    "    e=d1//50\n",
    "    e1=d1%50\n",
    "    f=e1//20\n",
    "    f1=e1%20\n",
    "    g=f1//10\n",
    "    g1=f1%10\n",
    "    h=g1//5\n",
    "    h1=g1%5\n",
    "    i=h1//2\n",
    "    i1=h1%2\n",
    "    j=i1//1\n",
    "    print(f\"\"\"\n",
    "    2000 :  {a}\n",
    "    500  :  {b}\n",
    "    200  :  {c}\n",
    "    100  :  {d}\n",
    "    50   :  {e}\n",
    "    20   :  {f}\n",
    "    10   :  {g}\n",
    "    5    :  {h}\n",
    "    2    :  {i}\n",
    "    1    :  {j}\"\"\")\n",
    "elif i==x:\n",
    "    print('Thank you')\n",
    "else:\n",
    "    print('Give the remaining money')"
   ]
  },
  {
   "cell_type": "code",
   "execution_count": 3,
   "metadata": {},
   "outputs": [],
   "source": [
    "t=(42,)"
   ]
  },
  {
   "cell_type": "code",
   "execution_count": 8,
   "metadata": {},
   "outputs": [
    {
     "name": "stdout",
     "output_type": "stream",
     "text": [
      "<class 'tuple'>\n"
     ]
    }
   ],
   "source": [
    "print(type(t))"
   ]
  },
  {
   "cell_type": "code",
   "execution_count": 9,
   "metadata": {},
   "outputs": [],
   "source": [
    "t=(42)"
   ]
  },
  {
   "cell_type": "code",
   "execution_count": 10,
   "metadata": {},
   "outputs": [
    {
     "name": "stdout",
     "output_type": "stream",
     "text": [
      "<class 'int'>\n"
     ]
    }
   ],
   "source": [
    "print(type(t))"
   ]
  },
  {
   "cell_type": "code",
   "execution_count": 5,
   "metadata": {},
   "outputs": [
    {
     "name": "stdout",
     "output_type": "stream",
     "text": [
      "Enter the no.:29\n",
      "Weird\n"
     ]
    }
   ],
   "source": [
    "n=int(input('Enter the no.:'))\n",
    "if n%2 and n<=20:\n",
    "    print('Weird')\n",
    "elif 2<=n<=5:\n",
    "    print('Not weird')\n",
    "elif 6<=n<=20 and n%2==0:\n",
    "    print('Weird')\n",
    "elif n>20 and n%2==0:\n",
    "    print('Not weird')\n",
    "else:\n",
    "    print('Weird')\n",
    "    "
   ]
  },
  {
   "cell_type": "code",
   "execution_count": 4,
   "metadata": {},
   "outputs": [
    {
     "name": "stdout",
     "output_type": "stream",
     "text": [
      "Enter price of the item:21\n",
      "Enter given amount:30\n",
      "change:9\n"
     ]
    }
   ],
   "source": [
    "notes=[2000,500,200,100,50,20,10,5,2,1]\n",
    "i=int(input('Enter price of the item:'))\n",
    "x=int(input('Enter given amount:'))  \n",
    "index=0\n",
    "t=x-i\n",
    "print(f\"change:{t}\")\n",
    "if t<0:\n",
    "    print('Please give item price....')\n",
    "else:\n",
    "    "
   ]
  },
  {
   "cell_type": "code",
   "execution_count": 12,
   "metadata": {},
   "outputs": [
    {
     "name": "stdout",
     "output_type": "stream",
     "text": [
      "Aur\n",
      "bhai\n",
      "kya\n",
      "haal\n",
      "hai\t"
     ]
    }
   ],
   "source": [
    "print(\"Aur\",\"bhai\",\"kya\",\"haal\",\"hai\",sep='\\n')"
   ]
  },
  {
   "cell_type": "code",
   "execution_count": 13,
   "metadata": {},
   "outputs": [
    {
     "data": {
      "text/plain": [
       "'C:\\\\Users\\\\Arun Agrawal'"
      ]
     },
     "execution_count": 13,
     "metadata": {},
     "output_type": "execute_result"
    }
   ],
   "source": [
    "pwd"
   ]
  },
  {
   "cell_type": "code",
   "execution_count": 14,
   "metadata": {},
   "outputs": [],
   "source": [
    "print?"
   ]
  },
  {
   "cell_type": "code",
   "execution_count": 42,
   "metadata": {
    "scrolled": true
   },
   "outputs": [
    {
     "name": "stdout",
     "output_type": "stream",
     "text": [
      "*\n",
      "*\n",
      "*\n",
      "*\n",
      "*\n",
      "*\n"
     ]
    }
   ],
   "source": [
    "r=1\n",
    "c=1\n",
    "while r<=1:\n",
    "    print('*')\n",
    "    while c<=5:\n",
    "        print('*')\n",
    "        c+=1\n",
    "    r+=1\n",
    "while c==6:\n",
    "    while \n",
    "\n",
    "    "
   ]
  },
  {
   "cell_type": "code",
   "execution_count": 19,
   "metadata": {},
   "outputs": [
    {
     "name": "stdout",
     "output_type": "stream",
     "text": [
      "1\n",
      "22\n",
      "333\n",
      "4444\n",
      "55555\n",
      "666666\n",
      "7777777\n",
      "88888888\n",
      "999999999\n"
     ]
    }
   ],
   "source": [
    "c=1\n",
    "while c<=9:\n",
    "    print(f\"{c}\"*c)\n",
    "    c+=1"
   ]
  },
  {
   "cell_type": "code",
   "execution_count": 2,
   "metadata": {},
   "outputs": [
    {
     "name": "stdout",
     "output_type": "stream",
     "text": [
      "Enter the rows:10\n",
      "         * \n",
      "        * * \n",
      "       * * * \n",
      "      * * * * \n",
      "     * * * * * \n",
      "    * * * * * * \n",
      "   * * * * * * * \n",
      "  * * * * * * * * \n",
      " * * * * * * * * * \n",
      "* * * * * * * * * * \n"
     ]
    }
   ],
   "source": [
    "n=int(input('Enter the rows:'))\n",
    "r=0\n",
    "while r<n:\n",
    "    s=n-r-1\n",
    "    while s>0:\n",
    "        print(end=' ')\n",
    "        s-=1\n",
    "    star=r+1\n",
    "    while star>0:\n",
    "        print('*',end=\" \")\n",
    "        star-=1\n",
    "    r+=1\n",
    "    print()\n",
    "        "
   ]
  },
  {
   "cell_type": "code",
   "execution_count": 5,
   "metadata": {},
   "outputs": [
    {
     "name": "stdout",
     "output_type": "stream",
     "text": [
      "Enter score:2\n",
      "Enter no. of participants2\n"
     ]
    }
   ],
   "source": [
    "list=[]\n",
    "n=int(input('Enter no. of participants'))\n",
    "\n"
   ]
  },
  {
   "cell_type": "code",
   "execution_count": 9,
   "metadata": {},
   "outputs": [
    {
     "name": "stdout",
     "output_type": "stream",
     "text": [
      "Light Bill\n",
      "Enter the unit of light:500\n",
      "595.0\n",
      "Including tax................\n",
      "714.0\n"
     ]
    }
   ],
   "source": [
    "print('Light Bill')\n",
    "unit=eval(input('Enter the unit of light:'))\n",
    "#if unit<=50:\n",
    " #   m1=25\n",
    "#elif unit>50 and unit<=150:\n",
    " #   m2=75\n",
    "#elif unit>150 and unit<=250:\n",
    "#    m3=120\n",
    "if unit>250:\n",
    "    a=(unit-250)*1.50\n",
    "t_m=a+120+75+25\n",
    "print(t_m)\n",
    "print('Including tax................')\n",
    "t_m=1.2*t_m\n",
    "print(t_m)"
   ]
  },
  {
   "cell_type": "code",
   "execution_count": 2,
   "metadata": {},
   "outputs": [],
   "source": [
    "from getpass import getpass"
   ]
  },
  {
   "cell_type": "code",
   "execution_count": null,
   "metadata": {},
   "outputs": [
    {
     "name": "stdout",
     "output_type": "stream",
     "text": [
      "==================================MENU===================================\n",
      "1: Sign Up\n",
      "2: Login\n",
      "3: Exit\n",
      "Option:2\n",
      "Account no:1001\n"
     ]
    }
   ],
   "source": [
    "from getpass import getpass\n",
    "from pprint import pprint\n",
    "print('==================================MENU===================================')\n",
    "l=[]\n",
    "def sign():\n",
    "    sign_up=[str(input('Username:')),\n",
    "             int(getpass('Password:')),\n",
    "             eval(input('Balance:')),\n",
    "             int(input('Account no.:')),\n",
    "            # int(input('Mobile no.:')),\n",
    "             #str(input('Email:'))\n",
    "            ]\n",
    "    l.append(sign_up)\n",
    "    pprint('Sign up successflly')\n",
    "#sign()\n",
    "         #pprint('Login Here........................................................')\n",
    "def login():\n",
    "    login=[int(input('Account no:')),\n",
    "           int(getpass('Password:'))]\n",
    "    #pprint(l)\n",
    "    if sign_up[3]==login[0] and sign_up[1]==login[1]:\n",
    "        return \"You have successfully Login\"\n",
    "    else:\n",
    "        return \"Invalid Login\"\n",
    "    \n",
    "def bank():\n",
    "    print('1: Sign Up')\n",
    "    print('2: Login')\n",
    "    print('3: Exit')\n",
    "    x=int(input('Option:'))\n",
    "    if x==1:\n",
    "        return sign()\n",
    "    elif x==2:\n",
    "        return login()\n",
    "    elif x==3:\n",
    "        print('Thanks for using our bank system')\n",
    "    else:\n",
    "        print('Invalid Input')\n",
    "bank()    \n",
    "    \n",
    "    \n",
    "    \n",
    "    \n",
    "    "
   ]
  },
  {
   "cell_type": "code",
   "execution_count": 24,
   "metadata": {},
   "outputs": [
    {
     "name": "stdout",
     "output_type": "stream",
     "text": [
      "======================================Bank System========================================\n",
      "1: Sign Up\n",
      "2: Login\n",
      "3: Exit\n",
      "Option:2\n",
      "Enter Your Account no.:1003\n",
      "Enter password:········\n"
     ]
    },
    {
     "ename": "KeyError",
     "evalue": "'1003'",
     "output_type": "error",
     "traceback": [
      "\u001b[1;31m---------------------------------------------------------------------------\u001b[0m",
      "\u001b[1;31mKeyError\u001b[0m                                  Traceback (most recent call last)",
      "\u001b[1;32m<ipython-input-24-8d9afd95cc0f>\u001b[0m in \u001b[0;36m<module>\u001b[1;34m\u001b[0m\n\u001b[0;32m     36\u001b[0m     \u001b[1;32melse\u001b[0m\u001b[1;33m:\u001b[0m\u001b[1;33m\u001b[0m\u001b[1;33m\u001b[0m\u001b[0m\n\u001b[0;32m     37\u001b[0m         \u001b[0mprint\u001b[0m\u001b[1;33m(\u001b[0m\u001b[1;34m'Invalid Input'\u001b[0m\u001b[1;33m)\u001b[0m\u001b[1;33m\u001b[0m\u001b[1;33m\u001b[0m\u001b[0m\n\u001b[1;32m---> 38\u001b[1;33m \u001b[0mbank\u001b[0m\u001b[1;33m(\u001b[0m\u001b[1;33m)\u001b[0m\u001b[1;33m\u001b[0m\u001b[1;33m\u001b[0m\u001b[0m\n\u001b[0m\u001b[0;32m     39\u001b[0m \u001b[1;33m\u001b[0m\u001b[0m\n\u001b[0;32m     40\u001b[0m \u001b[1;33m\u001b[0m\u001b[0m\n",
      "\u001b[1;32m<ipython-input-24-8d9afd95cc0f>\u001b[0m in \u001b[0;36mbank\u001b[1;34m()\u001b[0m\n\u001b[0;32m     31\u001b[0m     \u001b[1;32melif\u001b[0m \u001b[0mx\u001b[0m\u001b[1;33m==\u001b[0m\u001b[1;36m2\u001b[0m\u001b[1;33m:\u001b[0m\u001b[1;33m\u001b[0m\u001b[1;33m\u001b[0m\u001b[0m\n\u001b[0;32m     32\u001b[0m \u001b[1;33m\u001b[0m\u001b[0m\n\u001b[1;32m---> 33\u001b[1;33m         \u001b[1;32mreturn\u001b[0m \u001b[0mlogin\u001b[0m\u001b[1;33m(\u001b[0m\u001b[1;34m'acc'\u001b[0m\u001b[1;33m,\u001b[0m\u001b[1;34m'pswd'\u001b[0m\u001b[1;33m)\u001b[0m\u001b[1;33m\u001b[0m\u001b[1;33m\u001b[0m\u001b[0m\n\u001b[0m\u001b[0;32m     34\u001b[0m     \u001b[1;32melif\u001b[0m \u001b[0mx\u001b[0m\u001b[1;33m==\u001b[0m\u001b[1;36m3\u001b[0m\u001b[1;33m:\u001b[0m\u001b[1;33m\u001b[0m\u001b[1;33m\u001b[0m\u001b[0m\n\u001b[0;32m     35\u001b[0m         \u001b[0mprint\u001b[0m\u001b[1;33m(\u001b[0m\u001b[1;34m'Thanks for using our bank system'\u001b[0m\u001b[1;33m)\u001b[0m\u001b[1;33m\u001b[0m\u001b[1;33m\u001b[0m\u001b[0m\n",
      "\u001b[1;32m<ipython-input-24-8d9afd95cc0f>\u001b[0m in \u001b[0;36mlogin\u001b[1;34m(acc, pswd)\u001b[0m\n\u001b[0;32m     17\u001b[0m     \u001b[0macc\u001b[0m\u001b[1;33m=\u001b[0m\u001b[0minput\u001b[0m\u001b[1;33m(\u001b[0m\u001b[1;34m'Enter Your Account no.:'\u001b[0m\u001b[1;33m)\u001b[0m\u001b[1;33m\u001b[0m\u001b[1;33m\u001b[0m\u001b[0m\n\u001b[0;32m     18\u001b[0m     \u001b[0mpswd\u001b[0m\u001b[1;33m=\u001b[0m\u001b[0mgetpass\u001b[0m\u001b[1;33m(\u001b[0m\u001b[1;34m'Enter password:'\u001b[0m\u001b[1;33m)\u001b[0m\u001b[1;33m\u001b[0m\u001b[1;33m\u001b[0m\u001b[0m\n\u001b[1;32m---> 19\u001b[1;33m     \u001b[1;32mif\u001b[0m \u001b[0mpswd\u001b[0m\u001b[1;33m==\u001b[0m\u001b[0mdata\u001b[0m\u001b[1;33m[\u001b[0m\u001b[0macc\u001b[0m\u001b[1;33m]\u001b[0m\u001b[1;33m[\u001b[0m\u001b[1;34m'Password'\u001b[0m\u001b[1;33m]\u001b[0m\u001b[1;33m:\u001b[0m\u001b[1;33m\u001b[0m\u001b[1;33m\u001b[0m\u001b[0m\n\u001b[0m\u001b[0;32m     20\u001b[0m         \u001b[1;32mreturn\u001b[0m \u001b[1;34m'Login Successful'\u001b[0m\u001b[1;33m\u001b[0m\u001b[1;33m\u001b[0m\u001b[0m\n\u001b[0;32m     21\u001b[0m     \u001b[1;32melse\u001b[0m\u001b[1;33m:\u001b[0m\u001b[1;33m\u001b[0m\u001b[1;33m\u001b[0m\u001b[0m\n",
      "\u001b[1;31mKeyError\u001b[0m: '1003'"
     ]
    }
   ],
   "source": [
    "from getpass import getpass\n",
    "from pprint import pprint\n",
    "data={'1001':{'Password':'123','Balance':'16000','Name':'Sachin'},\n",
    "      '1002':{'Password':'Hi','Balance':'50000','Name':'Ramesh'},\n",
    "      }\n",
    "print('======================================Bank System========================================')\n",
    "\n",
    "def sign_up(name,pswd,acc,bal):\n",
    "    name=input('Enter Username:')\n",
    "    pswd=input('Enter password:')\n",
    "    bal=int(input('Enter money:'))\n",
    "    acc=int(input('Enter Your Account no.:'))\n",
    "    data[acc]={'Name':name,'Password':pswd,'Balance':bal}\n",
    "    print('Successfully Signed up')\n",
    "    #pprint(data)\n",
    "def login(acc,pswd):\n",
    "    acc=input('Enter Your Account no.:')\n",
    "    pswd=getpass('Enter password:')\n",
    "    if pswd==data[acc]['Password']:\n",
    "        return 'Login Successful'\n",
    "    else:\n",
    "        return 'Invalid Login'\n",
    "\n",
    "def bank():\n",
    "    print('1: Sign Up')\n",
    "    print('2: Login')\n",
    "    print('3: Exit')\n",
    "    x=int(input('Option:'))\n",
    "    if x==1:\n",
    "        return sign_up('name','pswd','acc','bal')\n",
    "    elif x==2:\n",
    "        \n",
    "        return login('acc','pswd')\n",
    "    elif x==3:\n",
    "        print('Thanks for using our bank system')\n",
    "    else:\n",
    "        print('Invalid Input')\n",
    "bank()\n",
    "    \n",
    "    \n",
    "\n",
    "    "
   ]
  },
  {
   "cell_type": "markdown",
   "metadata": {},
   "source": [
    "<h1>TIC-TAC-TOE</h1>"
   ]
  },
  {
   "cell_type": "code",
   "execution_count": null,
   "metadata": {},
   "outputs": [],
   "source": [
    "from itertools import permutations\n",
    "import sys\n",
    "import random\n",
    "import os\n",
    "import time\n",
    "\n",
    "\n",
    "def win(data):\n",
    "    win_comb = [ (1,2,3), (1,4,7), (1,5,9), (2,5,8), (3,6,9), (3,5,7),(4,5,6), (7,8,9) ]\n",
    "    player_comb = list(permutations(sorted(data),3))\n",
    "\n",
    "\n",
    "    for comb in win_comb:\n",
    "        if comb in player_comb :\n",
    "            return True\n",
    "    else :\n",
    "        return False\n",
    "\n",
    "\n",
    "def print_board(msg):\n",
    "    clr_scr()\n",
    "    print(msg)\n",
    "    print(\"\\n\\nYour Current Board is : \\n\")\n",
    "    \n",
    "    for var in board :\n",
    "        print(\"\\t\\t\\t\",\"-\"*19)\n",
    "        print(\"\\t\\t\\t\",\"|     |     |     |\")\n",
    "        print(\"\\t\\t\\t\",f\"|  {var[0]}  |  {var[1]}  |  {var[2]}  |\")\n",
    "        print(\"\\t\\t\\t\",\"|     |     |     |\")\n",
    "\n",
    "    print(\"\\t\\t\\t\",\"-\"*19)\n",
    "    print(\"\\n\\n\")\n",
    "\n",
    "\n",
    "\n",
    "\n",
    "def choice(player):\n",
    "    \n",
    "    possible_choices = [ '1','2','3','4','5','6','7','8','9' ]\n",
    "    print(\"\\n\\nLeft Positions : \",*total_pos)\n",
    "    ch = input(f\"\\n\\n{player} pos : \")\n",
    "    if ch in possible_choices :\n",
    "        ch = int(ch)\n",
    "        if ch in covered_pos : \n",
    "            print_board(\"\")\n",
    "            print(\"\\n\\nThat Position is Already Choosen Please Select Another Position \\n\\n\")\n",
    "            return choice(player)\n",
    "        else :\n",
    "            covered_pos.append(ch)\n",
    "            total_pos.remove(ch)\n",
    "            return ch\n",
    "\n",
    "    else :\n",
    "        print_board(\"\")\n",
    "        print(\"\\n\\nInvalid Choice please Select only 1-9 positions \\nTry Again\\n\\n\")\n",
    "        return choice(player)\n",
    "\n",
    "def play_game(p_list):\n",
    "    c = 1\n",
    "    ch1 = choice(p_list[1][0])\n",
    "    p_list[1][2].append(ch1)\n",
    "    pos_ch1 = pos.get(ch1)\n",
    "    board[pos_ch1[0]][pos_ch1[1]] = p_list[1][1]\n",
    "    print_board(f'\\n\\nAfter move {c} the board is ')\n",
    "    if win(p_list[1][2]) :\n",
    "        print(f\"\\n\\nPlayer {p_list[0][0]} has won the Game\\n\\n\")\n",
    "        return True\n",
    "    c = c + 1\n",
    "    \n",
    "    k = 1 \n",
    "    while k <= 4 :\n",
    "        ch1 = choice(p_list[0][0])\n",
    "        p_list[0][2].append(ch1)\n",
    "        pos_ch1 = pos.get(ch1)\n",
    "        board[pos_ch1[0]][pos_ch1[1]] = p_list[0][1]\n",
    "        print_board(f'\\n\\nAfter move {c} the board is ')\n",
    "        if win(p_list[0][2]) :\n",
    "            print(f\"\\n\\nPlayer {p_list[0][0]} has won the Game\\n\\n\")\n",
    "            break\n",
    "        c = c + 1\n",
    "        ch1 = choice(p_list[1][0])\n",
    "        p_list[1][2].append(ch1)\n",
    "        pos_ch1 = pos.get(ch1)\n",
    "        board[pos_ch1[0]][pos_ch1[1]] = p_list[1][1]\n",
    "        print_board(f'\\n\\nAfter move {c} the board is ')\n",
    "        if win(p_list[1][2]) :\n",
    "            print(f\"\\n\\nPlayer {p_list[1][0]} has won the Game\\n\\n\")\n",
    "            break\n",
    "        c = c + 1\n",
    "        k = k + 1\n",
    "       \n",
    "\n",
    "    else :\n",
    "        print(f\"\\n\\nwoooo...Match is Tie Between {p_list[0][0]} and {p_list[1][0]}\\n\\n\")\n",
    "\n",
    "\n",
    "def clr_scr():\n",
    "    \n",
    "    os.system('cls')\n",
    "    print('\\n\\n\\n')\n",
    "\n",
    "if __name__ == \"__main__\" : \n",
    "    player1 = input(\"\\n\\nEnter Player one name : \")\n",
    "    player2 = input(\"\\n\\nEnter player two name : \")\n",
    "    while True : \n",
    "    \n",
    "        clr_scr()\n",
    "        print(\"\\n\\nWelcome to Tic Tac Toe Game\\n\\n\") \n",
    "        pos = { 1:(0,0), 2:(0,1), 3:(0,2), 4:(1,0), 5:(1,1), 6:(1,2), 7:(2,0),8:(2,1),9:(2,2) }\n",
    "    \n",
    "\n",
    "        board = [ [ 1, 2, 3 ], [ 4, 5, 6 ], [ 7, 8, 9 ] ]\n",
    "        print_board('\\t\\tHere are the key Positions to select your move')\n",
    "    \n",
    "        input(\"\\n\\nPress Enter key to Continue Game \")\n",
    "    \n",
    "        board = [ [ ' ', ' ', ' ' ], [ ' ', ' ', ' ' ], [ ' ', ' ', ' '] ]\n",
    "        print_board('\\t\\tafter initial Move the board is ')\n",
    "    \n",
    "\n",
    "        time.sleep(2)\n",
    "        clr_scr()\n",
    "        print(\"\\n\\nSymbols --> X and 0 \")\n",
    "        print(\"\\n\\nChoosing The Symobls for each Player\")\n",
    "        symbol = [ 'X', '0']\n",
    "        random.shuffle(symbol)\n",
    "        print(f'\\n\\n{player1} symbol is - {symbol[0]}')\n",
    "        print(f'\\n\\n{player2} symbol is - {symbol[1]}')\n",
    "\n",
    "        p_list = ( ( player1, symbol[0],[] ),( player2, symbol[1],[] ) )\n",
    "   \n",
    "        total_pos = [ 1, 2, 3, 4, 5, 6, 7, 8, 9 ]\n",
    "        covered_pos = [] \n",
    "\n",
    "        input(\"\\nPress Any key to Start Game \".center(300))\n",
    "        print_board('Initial Status of Board')\n",
    "\n",
    "\n",
    "        play_game(p_list)\n",
    "        \n",
    "        if input(\"\\n\\nDo You want to play again :  \") : \n",
    "            \n",
    "            continue\n",
    "        else : \n",
    "            break \n",
    "        \n",
    "\n"
   ]
  },
  {
   "cell_type": "code",
   "execution_count": 3,
   "metadata": {},
   "outputs": [],
   "source": [
    "import time"
   ]
  },
  {
   "cell_type": "code",
   "execution_count": 4,
   "metadata": {},
   "outputs": [
    {
     "name": "stdout",
     "output_type": "stream",
     "text": [
      "['_STRUCT_TM_ITEMS', '__doc__', '__loader__', '__name__', '__package__', '__spec__', 'altzone', 'asctime', 'clock', 'ctime', 'daylight', 'get_clock_info', 'gmtime', 'localtime', 'mktime', 'monotonic', 'monotonic_ns', 'perf_counter', 'perf_counter_ns', 'process_time', 'process_time_ns', 'sleep', 'strftime', 'strptime', 'struct_time', 'thread_time', 'thread_time_ns', 'time', 'time_ns', 'timezone', 'tzname']\n"
     ]
    }
   ],
   "source": [
    "print(dir(time))"
   ]
  },
  {
   "cell_type": "code",
   "execution_count": 9,
   "metadata": {},
   "outputs": [],
   "source": [
    "import calendar"
   ]
  },
  {
   "cell_type": "code",
   "execution_count": 10,
   "metadata": {},
   "outputs": [
    {
     "name": "stdout",
     "output_type": "stream",
     "text": [
      "['Calendar', 'EPOCH', 'FRIDAY', 'February', 'HTMLCalendar', 'IllegalMonthError', 'IllegalWeekdayError', 'January', 'LocaleHTMLCalendar', 'LocaleTextCalendar', 'MONDAY', 'SATURDAY', 'SUNDAY', 'THURSDAY', 'TUESDAY', 'TextCalendar', 'WEDNESDAY', '_EPOCH_ORD', '__all__', '__builtins__', '__cached__', '__doc__', '__file__', '__loader__', '__name__', '__package__', '__spec__', '_colwidth', '_locale', '_localized_day', '_localized_month', '_spacing', 'c', 'calendar', 'datetime', 'day_abbr', 'day_name', 'different_locale', 'error', 'firstweekday', 'format', 'formatstring', 'isleap', 'leapdays', 'main', 'mdays', 'month', 'month_abbr', 'month_name', 'monthcalendar', 'monthlen', 'monthrange', 'nextmonth', 'prcal', 'prevmonth', 'prmonth', 'prweek', 'repeat', 'setfirstweekday', 'sys', 'timegm', 'week', 'weekday', 'weekheader']\n"
     ]
    }
   ],
   "source": [
    "print(dir(calendar))"
   ]
  },
  {
   "cell_type": "code",
   "execution_count": 11,
   "metadata": {},
   "outputs": [
    {
     "data": {
      "text/plain": [
       "<module 'calendar' from 'C:\\\\Anaconda3\\\\lib\\\\calendar.py'>"
      ]
     },
     "execution_count": 11,
     "metadata": {},
     "output_type": "execute_result"
    }
   ],
   "source": [
    "calendar"
   ]
  },
  {
   "cell_type": "code",
   "execution_count": 12,
   "metadata": {},
   "outputs": [
    {
     "name": "stdout",
     "output_type": "stream",
     "text": [
      "                                  2019\n",
      "\n",
      "      January                   February                   March\n",
      "Su Mo Tu We Th Fr Sa      Su Mo Tu We Th Fr Sa      Su Mo Tu We Th Fr Sa\n",
      "       1  2  3  4  5                      1  2                      1  2\n",
      " 6  7  8  9 10 11 12       3  4  5  6  7  8  9       3  4  5  6  7  8  9\n",
      "13 14 15 16 17 18 19      10 11 12 13 14 15 16      10 11 12 13 14 15 16\n",
      "20 21 22 23 24 25 26      17 18 19 20 21 22 23      17 18 19 20 21 22 23\n",
      "27 28 29 30 31            24 25 26 27 28            24 25 26 27 28 29 30\n",
      "                                                    31\n",
      "\n",
      "       April                      May                       June\n",
      "Su Mo Tu We Th Fr Sa      Su Mo Tu We Th Fr Sa      Su Mo Tu We Th Fr Sa\n",
      "    1  2  3  4  5  6                1  2  3  4                         1\n",
      " 7  8  9 10 11 12 13       5  6  7  8  9 10 11       2  3  4  5  6  7  8\n",
      "14 15 16 17 18 19 20      12 13 14 15 16 17 18       9 10 11 12 13 14 15\n",
      "21 22 23 24 25 26 27      19 20 21 22 23 24 25      16 17 18 19 20 21 22\n",
      "28 29 30                  26 27 28 29 30 31         23 24 25 26 27 28 29\n",
      "                                                    30\n",
      "\n",
      "        July                     August                  September\n",
      "Su Mo Tu We Th Fr Sa      Su Mo Tu We Th Fr Sa      Su Mo Tu We Th Fr Sa\n",
      "    1  2  3  4  5  6                   1  2  3       1  2  3  4  5  6  7\n",
      " 7  8  9 10 11 12 13       4  5  6  7  8  9 10       8  9 10 11 12 13 14\n",
      "14 15 16 17 18 19 20      11 12 13 14 15 16 17      15 16 17 18 19 20 21\n",
      "21 22 23 24 25 26 27      18 19 20 21 22 23 24      22 23 24 25 26 27 28\n",
      "28 29 30 31               25 26 27 28 29 30 31      29 30\n",
      "\n",
      "      October                   November                  December\n",
      "Su Mo Tu We Th Fr Sa      Su Mo Tu We Th Fr Sa      Su Mo Tu We Th Fr Sa\n",
      "       1  2  3  4  5                      1  2       1  2  3  4  5  6  7\n",
      " 6  7  8  9 10 11 12       3  4  5  6  7  8  9       8  9 10 11 12 13 14\n",
      "13 14 15 16 17 18 19      10 11 12 13 14 15 16      15 16 17 18 19 20 21\n",
      "20 21 22 23 24 25 26      17 18 19 20 21 22 23      22 23 24 25 26 27 28\n",
      "27 28 29 30 31            24 25 26 27 28 29 30      29 30 31\n",
      "\n"
     ]
    }
   ],
   "source": [
    "print(calendar.TextCalendar(firstweekday=6).formatyear(2019))"
   ]
  },
  {
   "cell_type": "code",
   "execution_count": null,
   "metadata": {},
   "outputs": [],
   "source": []
  }
 ],
 "metadata": {
  "kernelspec": {
   "display_name": "Python 3",
   "language": "python",
   "name": "python3"
  },
  "language_info": {
   "codemirror_mode": {
    "name": "ipython",
    "version": 3
   },
   "file_extension": ".py",
   "mimetype": "text/x-python",
   "name": "python",
   "nbconvert_exporter": "python",
   "pygments_lexer": "ipython3",
   "version": "3.7.1"
  }
 },
 "nbformat": 4,
 "nbformat_minor": 2
}
